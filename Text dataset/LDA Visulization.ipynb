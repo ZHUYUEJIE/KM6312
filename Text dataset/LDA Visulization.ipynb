{
 "cells": [
  {
   "cell_type": "code",
   "execution_count": 1,
   "metadata": {},
   "outputs": [
    {
     "name": "stderr",
     "output_type": "stream",
     "text": [
      "C:\\Users\\Chuan Wu\\anaconda3\\lib\\site-packages\\past\\builtins\\misc.py:45: DeprecationWarning: the imp module is deprecated in favour of importlib; see the module's documentation for alternative uses\n",
      "  from imp import reload\n"
     ]
    }
   ],
   "source": [
    "import regex\n",
    "import numpy as np\n",
    "import pandas as pd\n",
    "\n",
    "# Gensim\n",
    "import gensim\n",
    "import gensim.corpora as corpora\n",
    "from gensim.utils import simple_preprocess\n",
    "\n",
    "# spacy for lemmatization\n",
    "import spacy\n",
    "\n",
    "# Plotting tools\n",
    "import pyLDAvis\n",
    "from wordcloud import WordCloud"
   ]
  },
  {
   "cell_type": "code",
   "execution_count": 2,
   "metadata": {},
   "outputs": [],
   "source": [
    "df=pd.read_csv(\"dataset/Text.csv\",encoding='latin1')"
   ]
  },
  {
   "cell_type": "code",
   "execution_count": 3,
   "metadata": {},
   "outputs": [
    {
     "data": {
      "text/plain": [
       "(19883, 7)"
      ]
     },
     "execution_count": 3,
     "metadata": {},
     "output_type": "execute_result"
    }
   ],
   "source": [
    "df.shape"
   ]
  },
  {
   "cell_type": "code",
   "execution_count": 4,
   "metadata": {},
   "outputs": [
    {
     "data": {
      "text/html": [
       "<div>\n",
       "<style scoped>\n",
       "    .dataframe tbody tr th:only-of-type {\n",
       "        vertical-align: middle;\n",
       "    }\n",
       "\n",
       "    .dataframe tbody tr th {\n",
       "        vertical-align: top;\n",
       "    }\n",
       "\n",
       "    .dataframe thead th {\n",
       "        text-align: right;\n",
       "    }\n",
       "</style>\n",
       "<table border=\"1\" class=\"dataframe\">\n",
       "  <thead>\n",
       "    <tr style=\"text-align: right;\">\n",
       "      <th></th>\n",
       "      <th>Unnamed: 0</th>\n",
       "      <th>post_text</th>\n",
       "      <th>followers</th>\n",
       "      <th>friends</th>\n",
       "      <th>favourites</th>\n",
       "      <th>statuses</th>\n",
       "      <th>label</th>\n",
       "    </tr>\n",
       "  </thead>\n",
       "  <tbody>\n",
       "    <tr>\n",
       "      <th>0</th>\n",
       "      <td>0</td>\n",
       "      <td>It's just over 2 years since I was diagnosed w...</td>\n",
       "      <td>84</td>\n",
       "      <td>211</td>\n",
       "      <td>251</td>\n",
       "      <td>837</td>\n",
       "      <td>1</td>\n",
       "    </tr>\n",
       "    <tr>\n",
       "      <th>1</th>\n",
       "      <td>1</td>\n",
       "      <td>It's Sunday, I need a break, so I'm planning t...</td>\n",
       "      <td>84</td>\n",
       "      <td>211</td>\n",
       "      <td>251</td>\n",
       "      <td>837</td>\n",
       "      <td>1</td>\n",
       "    </tr>\n",
       "    <tr>\n",
       "      <th>2</th>\n",
       "      <td>2</td>\n",
       "      <td>Awake but tired. I need to sleep but my brain ...</td>\n",
       "      <td>84</td>\n",
       "      <td>211</td>\n",
       "      <td>251</td>\n",
       "      <td>837</td>\n",
       "      <td>1</td>\n",
       "    </tr>\n",
       "    <tr>\n",
       "      <th>3</th>\n",
       "      <td>3</td>\n",
       "      <td>RT @SewHQ: #Retro bears make perfect gifts and...</td>\n",
       "      <td>84</td>\n",
       "      <td>211</td>\n",
       "      <td>251</td>\n",
       "      <td>837</td>\n",
       "      <td>1</td>\n",
       "    </tr>\n",
       "    <tr>\n",
       "      <th>4</th>\n",
       "      <td>4</td>\n",
       "      <td>Itâs hard to say whether packing lists are m...</td>\n",
       "      <td>84</td>\n",
       "      <td>211</td>\n",
       "      <td>251</td>\n",
       "      <td>837</td>\n",
       "      <td>1</td>\n",
       "    </tr>\n",
       "  </tbody>\n",
       "</table>\n",
       "</div>"
      ],
      "text/plain": [
       "   Unnamed: 0                                          post_text  followers  \\\n",
       "0           0  It's just over 2 years since I was diagnosed w...         84   \n",
       "1           1  It's Sunday, I need a break, so I'm planning t...         84   \n",
       "2           2  Awake but tired. I need to sleep but my brain ...         84   \n",
       "3           3  RT @SewHQ: #Retro bears make perfect gifts and...         84   \n",
       "4           4  Itâs hard to say whether packing lists are m...         84   \n",
       "\n",
       "   friends  favourites  statuses  label  \n",
       "0      211         251       837      1  \n",
       "1      211         251       837      1  \n",
       "2      211         251       837      1  \n",
       "3      211         251       837      1  \n",
       "4      211         251       837      1  "
      ]
     },
     "execution_count": 4,
     "metadata": {},
     "output_type": "execute_result"
    }
   ],
   "source": [
    "df.head()"
   ]
  },
  {
   "cell_type": "code",
   "execution_count": 5,
   "metadata": {},
   "outputs": [
    {
     "data": {
      "text/html": [
       "<div>\n",
       "<style scoped>\n",
       "    .dataframe tbody tr th:only-of-type {\n",
       "        vertical-align: middle;\n",
       "    }\n",
       "\n",
       "    .dataframe tbody tr th {\n",
       "        vertical-align: top;\n",
       "    }\n",
       "\n",
       "    .dataframe thead th {\n",
       "        text-align: right;\n",
       "    }\n",
       "</style>\n",
       "<table border=\"1\" class=\"dataframe\">\n",
       "  <thead>\n",
       "    <tr style=\"text-align: right;\">\n",
       "      <th></th>\n",
       "      <th>Unnamed: 0</th>\n",
       "      <th>post_text</th>\n",
       "      <th>followers</th>\n",
       "      <th>friends</th>\n",
       "      <th>favourites</th>\n",
       "      <th>statuses</th>\n",
       "      <th>label</th>\n",
       "    </tr>\n",
       "  </thead>\n",
       "  <tbody>\n",
       "    <tr>\n",
       "      <th>0</th>\n",
       "      <td>0</td>\n",
       "      <td>It's just over 2 years since I was diagnosed w...</td>\n",
       "      <td>84</td>\n",
       "      <td>211</td>\n",
       "      <td>251</td>\n",
       "      <td>837</td>\n",
       "      <td>1</td>\n",
       "    </tr>\n",
       "    <tr>\n",
       "      <th>1</th>\n",
       "      <td>1</td>\n",
       "      <td>It's Sunday, I need a break, so I'm planning t...</td>\n",
       "      <td>84</td>\n",
       "      <td>211</td>\n",
       "      <td>251</td>\n",
       "      <td>837</td>\n",
       "      <td>1</td>\n",
       "    </tr>\n",
       "    <tr>\n",
       "      <th>2</th>\n",
       "      <td>2</td>\n",
       "      <td>Awake but tired. I need to sleep but my brain ...</td>\n",
       "      <td>84</td>\n",
       "      <td>211</td>\n",
       "      <td>251</td>\n",
       "      <td>837</td>\n",
       "      <td>1</td>\n",
       "    </tr>\n",
       "    <tr>\n",
       "      <th>3</th>\n",
       "      <td>3</td>\n",
       "      <td>RT @SewHQ: #Retro bears make perfect gifts and...</td>\n",
       "      <td>84</td>\n",
       "      <td>211</td>\n",
       "      <td>251</td>\n",
       "      <td>837</td>\n",
       "      <td>1</td>\n",
       "    </tr>\n",
       "    <tr>\n",
       "      <th>4</th>\n",
       "      <td>4</td>\n",
       "      <td>Itâs hard to say whether packing lists are m...</td>\n",
       "      <td>84</td>\n",
       "      <td>211</td>\n",
       "      <td>251</td>\n",
       "      <td>837</td>\n",
       "      <td>1</td>\n",
       "    </tr>\n",
       "    <tr>\n",
       "      <th>...</th>\n",
       "      <td>...</td>\n",
       "      <td>...</td>\n",
       "      <td>...</td>\n",
       "      <td>...</td>\n",
       "      <td>...</td>\n",
       "      <td>...</td>\n",
       "      <td>...</td>\n",
       "    </tr>\n",
       "    <tr>\n",
       "      <th>9939</th>\n",
       "      <td>9995</td>\n",
       "      <td>RT @CSLewisU: \"We all agreed that forgiveness ...</td>\n",
       "      <td>78</td>\n",
       "      <td>175</td>\n",
       "      <td>664</td>\n",
       "      <td>1148</td>\n",
       "      <td>1</td>\n",
       "    </tr>\n",
       "    <tr>\n",
       "      <th>9940</th>\n",
       "      <td>9996</td>\n",
       "      <td>Can't believe it's been a year. #blastyblast #...</td>\n",
       "      <td>78</td>\n",
       "      <td>175</td>\n",
       "      <td>664</td>\n",
       "      <td>1148</td>\n",
       "      <td>1</td>\n",
       "    </tr>\n",
       "    <tr>\n",
       "      <th>9941</th>\n",
       "      <td>9997</td>\n",
       "      <td>One year ago, a journey began. I never knew th...</td>\n",
       "      <td>78</td>\n",
       "      <td>175</td>\n",
       "      <td>664</td>\n",
       "      <td>1148</td>\n",
       "      <td>1</td>\n",
       "    </tr>\n",
       "    <tr>\n",
       "      <th>9942</th>\n",
       "      <td>9998</td>\n",
       "      <td>I found some new hammocking friends in the par...</td>\n",
       "      <td>78</td>\n",
       "      <td>175</td>\n",
       "      <td>664</td>\n",
       "      <td>1148</td>\n",
       "      <td>1</td>\n",
       "    </tr>\n",
       "    <tr>\n",
       "      <th>9943</th>\n",
       "      <td>9999</td>\n",
       "      <td>@xanabby you'll grow to like it. ð</td>\n",
       "      <td>78</td>\n",
       "      <td>175</td>\n",
       "      <td>664</td>\n",
       "      <td>1148</td>\n",
       "      <td>1</td>\n",
       "    </tr>\n",
       "  </tbody>\n",
       "</table>\n",
       "<p>9944 rows × 7 columns</p>\n",
       "</div>"
      ],
      "text/plain": [
       "      Unnamed: 0                                          post_text  \\\n",
       "0              0  It's just over 2 years since I was diagnosed w...   \n",
       "1              1  It's Sunday, I need a break, so I'm planning t...   \n",
       "2              2  Awake but tired. I need to sleep but my brain ...   \n",
       "3              3  RT @SewHQ: #Retro bears make perfect gifts and...   \n",
       "4              4  Itâs hard to say whether packing lists are m...   \n",
       "...          ...                                                ...   \n",
       "9939        9995  RT @CSLewisU: \"We all agreed that forgiveness ...   \n",
       "9940        9996  Can't believe it's been a year. #blastyblast #...   \n",
       "9941        9997  One year ago, a journey began. I never knew th...   \n",
       "9942        9998  I found some new hammocking friends in the par...   \n",
       "9943        9999              @xanabby you'll grow to like it. ð   \n",
       "\n",
       "      followers  friends  favourites  statuses  label  \n",
       "0            84      211         251       837      1  \n",
       "1            84      211         251       837      1  \n",
       "2            84      211         251       837      1  \n",
       "3            84      211         251       837      1  \n",
       "4            84      211         251       837      1  \n",
       "...         ...      ...         ...       ...    ...  \n",
       "9939         78      175         664      1148      1  \n",
       "9940         78      175         664      1148      1  \n",
       "9941         78      175         664      1148      1  \n",
       "9942         78      175         664      1148      1  \n",
       "9943         78      175         664      1148      1  \n",
       "\n",
       "[9944 rows x 7 columns]"
      ]
     },
     "execution_count": 5,
     "metadata": {},
     "output_type": "execute_result"
    }
   ],
   "source": [
    "data = df[df['label']==1]\n",
    "data"
   ]
  },
  {
   "cell_type": "code",
   "execution_count": 6,
   "metadata": {},
   "outputs": [],
   "source": [
    "import nltk;\n",
    "from nltk.corpus import stopwords\n",
    "stop_words = stopwords.words('english')"
   ]
  },
  {
   "cell_type": "code",
   "execution_count": 7,
   "metadata": {},
   "outputs": [
    {
     "name": "stdout",
     "output_type": "stream",
     "text": [
      "['it', 'just', 'over', 'years', 'since', 'was', 'diagnosed', 'with', 'anxiety', 'and', 'depression', 'today', 'taking', 'moment', 'to', 'reflect', 'on', 'how', 'far', 've', 'come', 'since']\n"
     ]
    }
   ],
   "source": [
    "def sent_to_words(sentences):\n",
    "    for sentence in sentences:\n",
    "        yield(gensim.utils.simple_preprocess(str(sentence), deacc=True))  # deacc=True removes punctuations\n",
    "        \n",
    "data_words = list(sent_to_words(data['post_text']))\n",
    "\n",
    "print(data_words[0])"
   ]
  },
  {
   "cell_type": "code",
   "execution_count": 8,
   "metadata": {},
   "outputs": [
    {
     "name": "stdout",
     "output_type": "stream",
     "text": [
      "['it', 'just', 'over', 'years', 'since', 'was_diagnosed', 'with', 'anxiety', 'and', 'depression', 'today', 'taking', 'moment', 'to', 'reflect', 'on', 'how', 'far', 've', 'come', 'since']\n"
     ]
    }
   ],
   "source": [
    "bigram = gensim.models.Phrases(data_words, min_count=5, threshold=100)\n",
    "bigram_mod = gensim.models.phrases.Phraser(bigram)\n",
    "\n",
    "print(bigram_mod[data_words[0]])"
   ]
  },
  {
   "cell_type": "code",
   "execution_count": 9,
   "metadata": {},
   "outputs": [],
   "source": [
    "def remove_stopwords(texts):\n",
    "    return [[word for word in simple_preprocess(str(doc)) if word not in stop_words] for doc in texts]\n",
    "\n",
    "def make_bigrams(texts):\n",
    "    return [bigram_mod[doc] for doc in texts]\n",
    "\n",
    "\n",
    "def lemmatization(texts, allowed_postags=['NOUN', 'ADJ', 'VERB', 'ADV']):\n",
    "    texts_out = []\n",
    "    for sent in texts:\n",
    "        doc = nlp(\" \".join(sent)) \n",
    "        texts_out.append([token.lemma_ for token in doc if token.pos_ in allowed_postags])\n",
    "    return texts_out"
   ]
  },
  {
   "cell_type": "code",
   "execution_count": 10,
   "metadata": {},
   "outputs": [
    {
     "name": "stderr",
     "output_type": "stream",
     "text": [
      "C:\\Users\\Chuan Wu\\anaconda3\\lib\\site-packages\\spacy\\language.py:1895: UserWarning: [W123] Argument disable with value ['parser', 'ner'] is used instead of ['senter'] as specified in the config. Be aware that this might affect other components in your pipeline.\n",
      "  warnings.warn(\n"
     ]
    },
    {
     "name": "stdout",
     "output_type": "stream",
     "text": [
      "['year', 'diagnose', 'anxiety', 'depression', 'today', 'take', 'moment', 'reflect', 'far', 'come', 'since']\n"
     ]
    }
   ],
   "source": [
    "data_words_nostops = remove_stopwords(data_words)\n",
    "\n",
    "data_words_bigrams = make_bigrams(data_words_nostops)\n",
    "\n",
    "nlp = spacy.load('en_core_web_sm', disable=['parser', 'ner'])\n",
    "\n",
    "data_lemmatized = lemmatization(data_words_bigrams, allowed_postags=['NOUN', 'ADJ', 'VERB', 'ADV'])\n",
    "\n",
    "print(data_lemmatized[0])"
   ]
  },
  {
   "cell_type": "code",
   "execution_count": 11,
   "metadata": {},
   "outputs": [
    {
     "name": "stdout",
     "output_type": "stream",
     "text": [
      "[(0, 1), (1, 1), (2, 1), (3, 1), (4, 1), (5, 1), (6, 1), (7, 1), (8, 1), (9, 1), (10, 1)]\n"
     ]
    }
   ],
   "source": [
    "id2word = corpora.Dictionary(data_lemmatized)\n",
    "\n",
    "texts = data_lemmatized\n",
    "\n",
    "corpus = [id2word.doc2bow(text) for text in texts]\n",
    "\n",
    "print(corpus[0])"
   ]
  },
  {
   "cell_type": "code",
   "execution_count": 12,
   "metadata": {},
   "outputs": [
    {
     "name": "stdout",
     "output_type": "stream",
     "text": [
      "[(0, '0.021*\"let\" + 0.016*\"life\" + 0.014*\"game\" + 0.013*\"co\" + 0.013*\"look\" + 0.011*\"back\" + 0.011*\"give\" + 0.011*\"way\" + 0.009*\"big\" + 0.009*\"watch\"'), (1, '0.034*\"http\" + 0.028*\"go\" + 0.021*\"make\" + 0.014*\"say\" + 0.012*\"m\" + 0.011*\"never\" + 0.011*\"thing\" + 0.011*\"come\" + 0.011*\"really\" + 0.010*\"take\"'), (2, '0.036*\"get\" + 0.015*\"know\" + 0.014*\"fuck\" + 0.013*\"people\" + 0.011*\"today\" + 0.011*\"love\" + 0.010*\"day\" + 0.010*\"good\" + 0.010*\"feel\" + 0.009*\"want\"')]\n"
     ]
    }
   ],
   "source": [
    "lda_model = gensim.models.ldamodel.LdaModel(corpus=corpus,\n",
    "                                           id2word=id2word,\n",
    "                                           num_topics=3, \n",
    "                                           random_state=100,\n",
    "                                           update_every=1,\n",
    "                                           chunksize=100,\n",
    "                                           passes=10,\n",
    "                                           alpha='auto',\n",
    "                                           per_word_topics=True)\n",
    "print(lda_model.print_topics())\n",
    "doc_lda = lda_model[corpus]"
   ]
  },
  {
   "cell_type": "code",
   "execution_count": 13,
   "metadata": {
    "scrolled": false
   },
   "outputs": [
    {
     "name": "stderr",
     "output_type": "stream",
     "text": [
      "C:\\Users\\Chuan Wu\\anaconda3\\lib\\site-packages\\pyLDAvis\\_prepare.py:246: FutureWarning: In a future version of pandas all arguments of DataFrame.drop except for the argument 'labels' will be keyword-only.\n",
      "  default_term_info = default_term_info.sort_values(\n"
     ]
    },
    {
     "data": {
      "text/html": [
       "\n",
       "<link rel=\"stylesheet\" type=\"text/css\" href=\"https://cdn.jsdelivr.net/gh/bmabey/pyLDAvis@3.3.1/pyLDAvis/js/ldavis.v1.0.0.css\">\n",
       "\n",
       "\n",
       "<div id=\"ldavis_el173682197082616992293545927\"></div>\n",
       "<script type=\"text/javascript\">\n",
       "\n",
       "var ldavis_el173682197082616992293545927_data = {\"mdsDat\": {\"x\": [0.2045888411918082, -0.1569360197540823, -0.04765282143772573], \"y\": [-0.051900653144290314, -0.11979432559044283, 0.17169497873473316], \"topics\": [1, 2, 3], \"cluster\": [1, 1, 1], \"Freq\": [44.17097805187933, 33.139937035734995, 22.68908491238568]}, \"tinfo\": {\"Term\": [\"get\", \"http\", \"go\", \"make\", \"let\", \"life\", \"know\", \"say\", \"fuck\", \"game\", \"people\", \"co\", \"look\", \"m\", \"never\", \"thing\", \"come\", \"really\", \"today\", \"back\", \"love\", \"give\", \"way\", \"take\", \"man\", \"day\", \"good\", \"friend\", \"feel\", \"want\", \"get\", \"know\", \"people\", \"fuck\", \"good\", \"love\", \"day\", \"today\", \"think\", \"feel\", \"want\", \"need\", \"see\", \"try\", \"start\", \"even\", \"well\", \"still\", \"work\", \"shit\", \"much\", \"guy\", \"new\", \"stop\", \"find\", \"mean\", \"great\", \"tell\", \"wait\", \"right\", \"happy\", \"also\", \"thefuxedo\", \"http\", \"go\", \"make\", \"say\", \"thing\", \"really\", \"come\", \"never\", \"take\", \"friend\", \"m\", \"actually\", \"girl\", \"man\", \"always\", \"help\", \"talk\", \"ever\", \"play\", \"bad\", \"put\", \"rt\", \"bitch\", \"live\", \"miss\", \"first\", \"school\", \"problem\", \"lot\", \"do\", \"car\", \"morning\", \"maybe\", \"year\", \"bout\", \"time\", \"coffee\", \"thankful\", \"thefuxedo\", \"let\", \"life\", \"co\", \"look\", \"way\", \"back\", \"give\", \"game\", \"watch\", \"use\", \"hate\", \"big\", \"amp\", \"keep\", \"hear\", \"tonight\", \"change\", \"home\", \"kill\", \"long\", \"read\", \"win\", \"pretty\", \"stay\", \"month\", \"family\", \"sure\", \"move\", \"die\", \"share\", \"hit\", \"black\", \"least\", \"expect\", \"https\", \"thefuxedo\", \"misslusyd\"], \"Freq\": [910.0, 641.0, 527.0, 406.0, 272.0, 213.0, 387.0, 274.0, 343.0, 185.0, 332.0, 173.0, 167.0, 219.0, 214.0, 209.0, 207.0, 205.0, 278.0, 149.0, 265.0, 142.0, 141.0, 191.0, 191.0, 257.0, 255.0, 184.0, 242.0, 234.0, 909.5215842927722, 387.0567563981855, 332.2306334830653, 342.7986023720403, 254.68851984918888, 265.13206162368436, 256.47107504235794, 277.3910558148601, 232.28983118704016, 241.36446337106, 234.11167050221792, 208.29380738815095, 209.65426373061516, 200.34054551533825, 200.23934135164566, 188.40326785473144, 167.61466464507376, 173.29353317791816, 161.1775280249805, 224.66105663164458, 141.0580580985399, 141.108108371141, 114.89644130596305, 117.1444299865178, 120.25355808637183, 118.17872010258483, 109.79558708714568, 101.06523690963641, 98.42104919103411, 89.15920691511634, 107.52667661776259, 100.70630260657265, 159.83777039952207, 640.3257267330381, 526.6623448025119, 405.3568877063335, 273.8196689050557, 209.21597625657938, 205.12218988122734, 206.7550182681585, 213.88927894314048, 190.5580526716468, 183.72092293160486, 218.48367439279914, 147.489217858578, 142.88428735027506, 189.98413861570344, 121.3162299864142, 103.10136023065314, 107.8564857932565, 106.65369215800837, 120.80484802187183, 99.2926194219636, 111.89772019547169, 83.91824283171817, 147.92612330068118, 78.6006807896041, 87.26554631007353, 66.26180605701146, 72.55358355352978, 75.40536050677393, 60.24828711822135, 55.925631878969185, 78.16606557764096, 70.91026415084166, 74.82110518089044, 168.48851418431062, 85.88383284942216, 188.7781210411043, 77.73470073076122, 99.82850684900457, 141.23822847999634, 271.3688811428133, 213.1590054814538, 173.10970998465322, 167.00090141947044, 141.12242507135034, 148.17125816767418, 141.4805308033558, 184.6912160271024, 118.35657383331879, 93.00800109506945, 107.83288486423922, 122.67223639445785, 70.32577218913603, 77.34778655541226, 72.77939952803168, 74.13572649568906, 66.54313113385032, 56.99009685779893, 65.18919837258578, 55.099759341848845, 80.91636023004344, 64.38514305386967, 58.840317847489324, 54.11092797862423, 56.052201180201095, 50.31765471711545, 43.50718084867614, 53.06706605284405, 37.56586722367279, 101.73694591226122, 62.96763416214366, 59.787705920206335, 58.55815127643725, 56.38987474278868, 100.59417371179896, 111.34966648722906, 60.10609315522649], \"Total\": [910.0, 641.0, 527.0, 406.0, 272.0, 213.0, 387.0, 274.0, 343.0, 185.0, 332.0, 173.0, 167.0, 219.0, 214.0, 209.0, 207.0, 205.0, 278.0, 149.0, 265.0, 142.0, 141.0, 191.0, 191.0, 257.0, 255.0, 184.0, 242.0, 234.0, 910.2483397157598, 387.77563979873287, 332.93813818620066, 343.6648206365065, 255.36556028325242, 265.85043961304285, 257.17606595173237, 278.16057434589567, 232.9699795319136, 242.07159897336265, 234.802694146457, 208.97725091026163, 210.34288381355864, 201.08179525799162, 201.00315072497844, 189.15332638963844, 168.29822144201734, 174.01364147836713, 161.90548069936847, 225.69121184135622, 141.73122259508128, 141.85216058715736, 115.5737263147081, 117.84680458019251, 120.97864891038016, 118.94139279797486, 110.51543320138565, 101.75869124622106, 99.14223632630988, 89.82813901259199, 108.3367864709704, 101.48243461233038, 412.42566536674747, 641.0490393958338, 527.3962125972103, 406.0964046187497, 274.60068702657406, 209.96777197536477, 205.8608036971168, 207.53586183161545, 214.7000635254162, 191.28178276369846, 184.5188266447622, 219.52184847255958, 148.30562775264633, 143.69421518671643, 191.06370708706174, 122.07354972904461, 103.76794917362955, 108.57855064513811, 107.39085300282868, 121.65948062388438, 100.03037323114306, 112.783046429835, 84.63382608572846, 149.32188617906016, 79.37925764600364, 88.14192192371787, 66.9752425975593, 73.37551941505077, 76.30723694520556, 61.010543873452214, 56.64575177656754, 79.26167214061525, 71.89869781293497, 75.93045170229232, 175.93476391405466, 89.0933991400096, 280.5268294706829, 80.30516193158886, 133.660096519388, 412.42566536674747, 272.3943534853642, 213.9886398524168, 173.88952954506033, 167.75579923899235, 141.8801121723967, 149.04284267380015, 142.34578100839786, 185.85130127346454, 119.20362304369942, 93.77434999250366, 108.72583192602832, 123.71065440444212, 70.99209747218735, 78.16788668136037, 73.62856270722787, 75.02679992891197, 67.34831086901349, 57.76396569890136, 66.08117471977413, 55.906528901786324, 82.11769364298523, 65.34434417909598, 59.72451857597963, 54.945785080992295, 56.92026361794574, 51.108593078274765, 44.27529934411959, 54.0356350383414, 38.30860381239476, 103.752917082413, 64.22086729617334, 61.04576704253696, 60.078147344437845, 57.74747988636814, 177.436259723008, 412.42566536674747, 218.0901628411724], \"Category\": [\"Default\", \"Default\", \"Default\", \"Default\", \"Default\", \"Default\", \"Default\", \"Default\", \"Default\", \"Default\", \"Default\", \"Default\", \"Default\", \"Default\", \"Default\", \"Default\", \"Default\", \"Default\", \"Default\", \"Default\", \"Default\", \"Default\", \"Default\", \"Default\", \"Default\", \"Default\", \"Default\", \"Default\", \"Default\", \"Default\", \"Topic1\", \"Topic1\", \"Topic1\", \"Topic1\", \"Topic1\", \"Topic1\", \"Topic1\", \"Topic1\", \"Topic1\", \"Topic1\", \"Topic1\", \"Topic1\", \"Topic1\", \"Topic1\", \"Topic1\", \"Topic1\", \"Topic1\", \"Topic1\", \"Topic1\", \"Topic1\", \"Topic1\", \"Topic1\", \"Topic1\", \"Topic1\", \"Topic1\", \"Topic1\", \"Topic1\", \"Topic1\", \"Topic1\", \"Topic1\", \"Topic1\", \"Topic1\", \"Topic1\", \"Topic2\", \"Topic2\", \"Topic2\", \"Topic2\", \"Topic2\", \"Topic2\", \"Topic2\", \"Topic2\", \"Topic2\", \"Topic2\", \"Topic2\", \"Topic2\", \"Topic2\", \"Topic2\", \"Topic2\", \"Topic2\", \"Topic2\", \"Topic2\", \"Topic2\", \"Topic2\", \"Topic2\", \"Topic2\", \"Topic2\", \"Topic2\", \"Topic2\", \"Topic2\", \"Topic2\", \"Topic2\", \"Topic2\", \"Topic2\", \"Topic2\", \"Topic2\", \"Topic2\", \"Topic2\", \"Topic2\", \"Topic2\", \"Topic2\", \"Topic2\", \"Topic2\", \"Topic3\", \"Topic3\", \"Topic3\", \"Topic3\", \"Topic3\", \"Topic3\", \"Topic3\", \"Topic3\", \"Topic3\", \"Topic3\", \"Topic3\", \"Topic3\", \"Topic3\", \"Topic3\", \"Topic3\", \"Topic3\", \"Topic3\", \"Topic3\", \"Topic3\", \"Topic3\", \"Topic3\", \"Topic3\", \"Topic3\", \"Topic3\", \"Topic3\", \"Topic3\", \"Topic3\", \"Topic3\", \"Topic3\", \"Topic3\", \"Topic3\", \"Topic3\", \"Topic3\", \"Topic3\", \"Topic3\", \"Topic3\", \"Topic3\"], \"logprob\": [30.0, 29.0, 28.0, 27.0, 26.0, 25.0, 24.0, 23.0, 22.0, 21.0, 20.0, 19.0, 18.0, 17.0, 16.0, 15.0, 14.0, 13.0, 12.0, 11.0, 10.0, 9.0, 8.0, 7.0, 6.0, 5.0, 4.0, 3.0, 2.0, 1.0, -3.3222, -4.1765, -4.3293, -4.298, -4.5951, -4.5549, -4.5881, -4.5097, -4.6871, -4.6488, -4.6793, -4.7962, -4.7896, -4.8351, -4.8356, -4.8965, -5.0134, -4.9801, -5.0526, -4.7205, -5.1859, -5.1856, -5.3911, -5.3717, -5.3455, -5.3629, -5.4365, -5.5193, -5.5459, -5.6447, -5.4574, -5.5229, -5.0609, -3.3858, -3.5812, -3.843, -4.2353, -4.5044, -4.5242, -4.5162, -4.4823, -4.5978, -4.6344, -4.4611, -4.854, -4.8857, -4.6008, -5.0494, -5.2121, -5.167, -5.1782, -5.0536, -5.2497, -5.1302, -5.4179, -4.8511, -5.4834, -5.3788, -5.6542, -5.5635, -5.5249, -5.7493, -5.8238, -5.4889, -5.5864, -5.5327, -4.7209, -5.3948, -4.6072, -5.4945, -5.2443, -4.8973, -3.8654, -4.1069, -4.315, -4.3509, -4.5193, -4.4706, -4.5168, -4.2502, -4.6952, -4.9362, -4.7883, -4.6594, -5.2158, -5.1206, -5.1815, -5.163, -5.2711, -5.426, -5.2916, -5.4598, -5.0755, -5.304, -5.3941, -5.4779, -5.4426, -5.5506, -5.696, -5.4974, -5.8428, -4.8465, -5.3263, -5.3781, -5.3989, -5.4366, -4.8578, -4.7562, -5.3728], \"loglift\": [30.0, 29.0, 28.0, 27.0, 26.0, 25.0, 24.0, 23.0, 22.0, 21.0, 20.0, 19.0, 18.0, 17.0, 16.0, 15.0, 14.0, 13.0, 12.0, 11.0, 10.0, 9.0, 8.0, 7.0, 6.0, 5.0, 4.0, 3.0, 2.0, 1.0, 0.8163, 0.8152, 0.815, 0.8146, 0.8144, 0.8144, 0.8144, 0.8143, 0.8142, 0.8142, 0.8142, 0.8138, 0.8138, 0.8134, 0.8133, 0.8131, 0.813, 0.813, 0.8126, 0.8125, 0.8123, 0.8118, 0.8112, 0.8111, 0.8111, 0.8107, 0.8106, 0.8103, 0.8098, 0.8096, 0.8096, 0.8094, -0.1308, 1.1033, 1.103, 1.1026, 1.1016, 1.1008, 1.1008, 1.1007, 1.1006, 1.1006, 1.1001, 1.0997, 1.0989, 1.0988, 1.0988, 1.0982, 1.098, 1.0978, 1.0975, 1.0974, 1.097, 1.0966, 1.0959, 1.095, 1.0946, 1.0944, 1.0937, 1.0932, 1.0925, 1.0919, 1.0916, 1.0905, 1.0906, 1.0897, 1.0612, 1.0677, 0.7083, 1.0719, 0.8126, 0.0328, 1.4795, 1.4794, 1.4788, 1.4788, 1.4779, 1.4774, 1.4772, 1.477, 1.4762, 1.4751, 1.475, 1.4749, 1.4739, 1.4727, 1.4717, 1.4713, 1.4713, 1.4698, 1.4697, 1.4688, 1.4685, 1.4685, 1.4684, 1.468, 1.4679, 1.4677, 1.4658, 1.4652, 1.4637, 1.4637, 1.4636, 1.4625, 1.4577, 1.4595, 0.9158, 0.1739, 0.1945]}, \"token.table\": {\"Topic\": [2, 1, 2, 3, 3, 2, 1, 3, 1, 2, 3, 1, 2, 3, 1, 2, 3, 1, 2, 3, 3, 1, 2, 3, 2, 1, 3, 2, 1, 2, 1, 2, 3, 3, 1, 1, 2, 2, 1, 1, 2, 3, 1, 2, 3, 2, 1, 1, 1, 1, 3, 3, 2, 1, 2, 3, 3, 2, 1, 3, 3, 3, 1, 1, 2, 3, 1, 3, 3, 2, 3, 3, 2, 1, 1, 2, 2, 1, 2, 1, 2, 1, 2, 1, 2, 3, 3, 1, 2, 1, 3, 1, 1, 2, 1, 1, 2, 3, 2, 2, 1, 2, 3, 2, 1, 2, 2, 2, 1, 1, 2, 3, 1, 2, 1, 3, 1, 1, 3, 2, 2, 1, 1, 2, 3, 1, 2, 3, 2, 1, 1, 2, 1, 3, 1, 3, 1, 1, 3, 3, 1, 3, 1, 1, 2], \"Freq\": [0.9911963708159212, 0.995246126936417, 0.9912057138386859, 0.9860252407308289, 0.9930030677415181, 0.9896993963147359, 0.008083378144058162, 0.9942555117191538, 0.006696941925853016, 0.9911474050262464, 0.006696941925853016, 0.01638115218215205, 0.01638115218215205, 0.982869130929123, 0.02244835217092812, 0.9652791433499092, 0.01122417608546406, 0.012616438348990877, 0.9840821912212884, 0.9948282167062672, 0.9948845134759547, 0.02490499927892281, 0.9712949718779896, 0.012452499639461405, 0.9974179795873052, 0.9954270007693753, 0.9919442688669612, 0.9886001728935537, 0.993902690417071, 0.9963604628150371, 0.017316772991093934, 0.017316772991093934, 0.9697392875012603, 0.9783090668025842, 0.9955732147930308, 0.9919105650526389, 0.9854387597605381, 0.9971882183829346, 0.998065496970929, 0.005380645672900531, 0.005380645672900531, 0.9954194494865983, 0.9997271736679714, 0.99516880212739, 0.9905456909304641, 0.9992487382583598, 0.9985684824420061, 0.9953360975344828, 0.9939926146797478, 0.9968913008965736, 0.993324199841284, 0.9914630588440623, 0.9925993605950082, 0.015571262770217772, 0.015571262770217772, 0.9809895545237196, 0.9867743550904454, 0.9983635582750073, 0.42832282487605405, 0.5692184909537035, 0.9850592521949444, 0.9836386879567595, 0.9979997717258994, 0.016644987307395425, 0.016644987307395425, 0.9820542511363299, 0.00367114805136271, 0.9948811219192943, 0.9953799423506844, 0.9952222071955503, 0.983784918870945, 0.9954946461319313, 0.9834365699878322, 0.9968010599708592, 0.0045553552275458395, 0.9930674396049931, 0.9973001370948382, 0.005233856367836155, 0.9944327098888694, 0.013169946675950174, 0.9877460006962632, 0.9920852381510797, 0.9870445084609553, 0.394332320539514, 0.33013868696331405, 0.27511557246942836, 0.9838324076620123, 0.013908457738717133, 0.9875004994489165, 0.018506306056927848, 0.9808342210171759, 0.9948407797400411, 0.9953236493158708, 0.9967393417872309, 0.995035841336933, 0.9971822447517983, 0.9945792911452319, 0.9878689926138472, 0.9828687684479487, 0.9930570555183384, 0.012177643521597168, 0.012177643521597168, 0.9863891252493706, 0.9958185158045758, 0.9907808508369977, 0.992510960273893, 0.9978125071969833, 0.9948822247795394, 0.9983698815603262, 0.00963828322249176, 0.00963828322249176, 0.9831048886941595, 0.9969373559753754, 0.004430832693223891, 0.9950092786040404, 0.982786940261238, 0.9941749309435999, 0.9928143611257929, 0.9937821008960349, 0.9985268708832218, 0.9946715935909942, 0.9925442118316431, 0.16459661913238857, 0.7481664506017662, 0.08977997407221194, 0.38794869824049577, 0.3418797903244369, 0.26913940940434394, 0.995390854671362, 0.9958364612734117, 0.3243896499015976, 0.6737323497956258, 0.9958276820910914, 0.9863142246519262, 0.9946201233353639, 0.9917424115169493, 0.9884788121729431, 0.9965814099817939, 0.9899027981451689, 0.9937967897056122, 0.9982280178633969, 0.9794267706565177, 0.994407349921342, 0.039787474881425644, 0.9548993971542153], \"Term\": [\"actually\", \"also\", \"always\", \"amp\", \"back\", \"bad\", \"big\", \"big\", \"bitch\", \"bitch\", \"bitch\", \"black\", \"black\", \"black\", \"bout\", \"bout\", \"bout\", \"car\", \"car\", \"change\", \"co\", \"coffee\", \"coffee\", \"coffee\", \"come\", \"day\", \"die\", \"do\", \"even\", \"ever\", \"expect\", \"expect\", \"expect\", \"family\", \"feel\", \"find\", \"first\", \"friend\", \"fuck\", \"game\", \"game\", \"game\", \"get\", \"girl\", \"give\", \"go\", \"good\", \"great\", \"guy\", \"happy\", \"hate\", \"hear\", \"help\", \"hit\", \"hit\", \"hit\", \"home\", \"http\", \"https\", \"https\", \"keep\", \"kill\", \"know\", \"least\", \"least\", \"least\", \"let\", \"let\", \"life\", \"live\", \"long\", \"look\", \"lot\", \"love\", \"m\", \"m\", \"make\", \"man\", \"man\", \"maybe\", \"maybe\", \"mean\", \"miss\", \"misslusyd\", \"misslusyd\", \"misslusyd\", \"month\", \"morning\", \"morning\", \"move\", \"move\", \"much\", \"need\", \"never\", \"new\", \"people\", \"play\", \"pretty\", \"problem\", \"put\", \"read\", \"read\", \"read\", \"really\", \"right\", \"rt\", \"say\", \"school\", \"see\", \"share\", \"share\", \"share\", \"shit\", \"shit\", \"start\", \"stay\", \"still\", \"stop\", \"sure\", \"take\", \"talk\", \"tell\", \"thankful\", \"thankful\", \"thankful\", \"thefuxedo\", \"thefuxedo\", \"thefuxedo\", \"thing\", \"think\", \"time\", \"time\", \"today\", \"tonight\", \"try\", \"use\", \"wait\", \"want\", \"watch\", \"way\", \"well\", \"win\", \"work\", \"year\", \"year\"]}, \"R\": 30, \"lambda.step\": 0.01, \"plot.opts\": {\"xlab\": \"PC1\", \"ylab\": \"PC2\"}, \"topic.order\": [3, 2, 1]};\n",
       "\n",
       "function LDAvis_load_lib(url, callback){\n",
       "  var s = document.createElement('script');\n",
       "  s.src = url;\n",
       "  s.async = true;\n",
       "  s.onreadystatechange = s.onload = callback;\n",
       "  s.onerror = function(){console.warn(\"failed to load library \" + url);};\n",
       "  document.getElementsByTagName(\"head\")[0].appendChild(s);\n",
       "}\n",
       "\n",
       "if(typeof(LDAvis) !== \"undefined\"){\n",
       "   // already loaded: just create the visualization\n",
       "   !function(LDAvis){\n",
       "       new LDAvis(\"#\" + \"ldavis_el173682197082616992293545927\", ldavis_el173682197082616992293545927_data);\n",
       "   }(LDAvis);\n",
       "}else if(typeof define === \"function\" && define.amd){\n",
       "   // require.js is available: use it to load d3/LDAvis\n",
       "   require.config({paths: {d3: \"https://d3js.org/d3.v5\"}});\n",
       "   require([\"d3\"], function(d3){\n",
       "      window.d3 = d3;\n",
       "      LDAvis_load_lib(\"https://cdn.jsdelivr.net/gh/bmabey/pyLDAvis@3.3.1/pyLDAvis/js/ldavis.v3.0.0.js\", function(){\n",
       "        new LDAvis(\"#\" + \"ldavis_el173682197082616992293545927\", ldavis_el173682197082616992293545927_data);\n",
       "      });\n",
       "    });\n",
       "}else{\n",
       "    // require.js not available: dynamically load d3 & LDAvis\n",
       "    LDAvis_load_lib(\"https://d3js.org/d3.v5.js\", function(){\n",
       "         LDAvis_load_lib(\"https://cdn.jsdelivr.net/gh/bmabey/pyLDAvis@3.3.1/pyLDAvis/js/ldavis.v3.0.0.js\", function(){\n",
       "                 new LDAvis(\"#\" + \"ldavis_el173682197082616992293545927\", ldavis_el173682197082616992293545927_data);\n",
       "            })\n",
       "         });\n",
       "}\n",
       "</script>"
      ],
      "text/plain": [
       "PreparedData(topic_coordinates=              x         y  topics  cluster       Freq\n",
       "topic                                                \n",
       "2      0.204589 -0.051901       1        1  44.170978\n",
       "1     -0.156936 -0.119794       2        1  33.139937\n",
       "0     -0.047653  0.171695       3        1  22.689085, topic_info=            Term        Freq       Total Category  logprob  loglift\n",
       "26           get  910.000000  910.000000  Default  30.0000  30.0000\n",
       "68          http  641.000000  641.000000  Default  29.0000  29.0000\n",
       "136           go  527.000000  527.000000  Default  28.0000  28.0000\n",
       "29          make  406.000000  406.000000  Default  27.0000  27.0000\n",
       "346          let  272.000000  272.000000  Default  26.0000  26.0000\n",
       "...          ...         ...         ...      ...      ...      ...\n",
       "169        least   58.558151   60.078147   Topic3  -5.3989   1.4577\n",
       "4557      expect   56.389875   57.747480   Topic3  -5.4366   1.4595\n",
       "157        https  100.594174  177.436260   Topic3  -4.8578   0.9158\n",
       "10016  thefuxedo  111.349666  412.425665   Topic3  -4.7562   0.1739\n",
       "9989   misslusyd   60.106093  218.090163   Topic3  -5.3728   0.1945\n",
       "\n",
       "[139 rows x 6 columns], token_table=      Topic      Freq      Term\n",
       "term                           \n",
       "729       2  0.991196  actually\n",
       "73        1  0.995246      also\n",
       "128       2  0.991206    always\n",
       "99        3  0.986025       amp\n",
       "81        3  0.993003      back\n",
       "...     ...       ...       ...\n",
       "490       1  0.998228      well\n",
       "2559      3  0.979427       win\n",
       "368       1  0.994407      work\n",
       "10        1  0.039787      year\n",
       "10        2  0.954899      year\n",
       "\n",
       "[145 rows x 3 columns], R=30, lambda_step=0.01, plot_opts={'xlab': 'PC1', 'ylab': 'PC2'}, topic_order=[3, 2, 1])"
      ]
     },
     "execution_count": 13,
     "metadata": {},
     "output_type": "execute_result"
    }
   ],
   "source": [
    "import pyLDAvis.gensim_models\n",
    "pyLDAvis.enable_notebook()\n",
    "vis = pyLDAvis.gensim_models.prepare(lda_model, corpus, id2word)\n",
    "vis"
   ]
  },
  {
   "cell_type": "code",
   "execution_count": null,
   "metadata": {},
   "outputs": [],
   "source": []
  },
  {
   "cell_type": "code",
   "execution_count": null,
   "metadata": {},
   "outputs": [],
   "source": []
  },
  {
   "cell_type": "code",
   "execution_count": null,
   "metadata": {},
   "outputs": [],
   "source": []
  }
 ],
 "metadata": {
  "kernelspec": {
   "display_name": "Python 3 (ipykernel)",
   "language": "python",
   "name": "python3"
  },
  "language_info": {
   "codemirror_mode": {
    "name": "ipython",
    "version": 3
   },
   "file_extension": ".py",
   "mimetype": "text/x-python",
   "name": "python",
   "nbconvert_exporter": "python",
   "pygments_lexer": "ipython3",
   "version": "3.9.13"
  }
 },
 "nbformat": 4,
 "nbformat_minor": 4
}
