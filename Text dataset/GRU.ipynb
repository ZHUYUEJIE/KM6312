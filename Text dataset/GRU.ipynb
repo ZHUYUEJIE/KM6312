{
 "cells": [
  {
   "cell_type": "code",
   "execution_count": 1,
   "metadata": {},
   "outputs": [
    {
     "name": "stderr",
     "output_type": "stream",
     "text": [
      "C:\\Users\\wuchu\\anaconda3\\lib\\site-packages\\pandas\\core\\computation\\expressions.py:20: UserWarning: Pandas requires version '2.7.3' or newer of 'numexpr' (version '2.7.1' currently installed).\n",
      "  from pandas.core.computation.check import NUMEXPR_INSTALLED\n"
     ]
    }
   ],
   "source": [
    "import pandas as pd\n",
    "import numpy as np\n",
    "import matplotlib as plt\n",
    "import seaborn as sns\n",
    "\n",
    "import tensorflow as tf\n",
    "import keras\n",
    "\n",
    "from keras.preprocessing.text import Tokenizer\n",
    "import keras_preprocessing\n",
    "from keras_preprocessing import sequence\n",
    "from keras.models import Model, Sequential\n",
    "from keras.layers import RNN, GRU, Input, Dense, Activation, RepeatVector, Bidirectional, LSTM, Dropout, Embedding\n",
    "#from keras.layers.embeddings import Embedding\n",
    "from sklearn.model_selection import train_test_split \n",
    "from keras.losses import sparse_categorical_crossentropy\n",
    "from keras.preprocessing.text import Tokenizer\n",
    "from keras_preprocessing import sequence\n",
    "from keras.callbacks import EarlyStopping\n",
    "\n",
    "from sklearn.model_selection import train_test_split\n",
    "from sklearn.metrics import confusion_matrix, classification_report\n",
    "import collections\n",
    "\n",
    "from tensorflow.python.client import device_lib\n",
    "import matplotlib.pyplot as plt\n",
    "import seaborn as sns"
   ]
  },
  {
   "cell_type": "code",
   "execution_count": 2,
   "metadata": {},
   "outputs": [],
   "source": [
    "from tensorflow.python.keras.layers.embeddings import Embedding\n",
    "from keras.losses import categorical_crossentropy"
   ]
  },
  {
   "cell_type": "code",
   "execution_count": 3,
   "metadata": {},
   "outputs": [],
   "source": [
    "df = pd.read_csv('dataset/Text.csv')"
   ]
  },
  {
   "cell_type": "code",
   "execution_count": 4,
   "metadata": {},
   "outputs": [],
   "source": [
    "df1 = pd.read_csv('preprocessed_lower_without_stopwords_stem_pos_tag.csv')\n",
    "df2 = pd.read_csv('preprocessed_lower_without_stopwords_lemma_pos_tag.csv')\n",
    "df3 = pd.read_csv('preprocessed_lower_with_stopwords_stem_pos_tag.csv')\n",
    "df4 = pd.read_csv('preprocessed_lower_with_stopwords_lemma_pos_tag.csv')\n",
    "df5 = pd.read_csv('preprocessed_lower_with_stopwords_pos_tag.csv')\n",
    "df6 = pd.read_csv('preprocessed_lower_without_stopwords_pos_tag.csv')\n",
    "df7 = pd.read_csv('preprocessed_without_lower_without_stopwords_pos_tag.csv')"
   ]
  },
  {
   "cell_type": "code",
   "execution_count": 21,
   "metadata": {},
   "outputs": [],
   "source": [
    "X_train, X_test, y_train, y_test = train_test_split(df['post_text'], df['label'], test_size=0.2, random_state = 123)"
   ]
  },
  {
   "cell_type": "code",
   "execution_count": 29,
   "metadata": {},
   "outputs": [
    {
     "name": "stdout",
     "output_type": "stream",
     "text": [
      "Train vocabulary size: 30204\n"
     ]
    }
   ],
   "source": [
    "#define Keras Tokenizer\n",
    "tok = Tokenizer()\n",
    "tok.fit_on_texts(X_train)\n",
    "\n",
    "#return sequences\n",
    "sequences = tok.texts_to_sequences(X_train)\n",
    "test_sequences = tok.texts_to_sequences(X_test)\n",
    "\n",
    "#print size of the vocabulary\n",
    "print(f'Train vocabulary size: {len(tok.word_index)}')"
   ]
  },
  {
   "cell_type": "code",
   "execution_count": 30,
   "metadata": {},
   "outputs": [],
   "source": [
    "#maximum sequence length (512 to prevent memory issues and speed up computation)\n",
    "MAX_LEN = 40\n",
    "\n",
    "#padded sequences\n",
    "X_train_seq = sequence.pad_sequences(sequences,maxlen=MAX_LEN)\n",
    "X_test_seq = sequence.pad_sequences(test_sequences,maxlen=MAX_LEN)"
   ]
  },
  {
   "cell_type": "code",
   "execution_count": 31,
   "metadata": {},
   "outputs": [
    {
     "name": "stdout",
     "output_type": "stream",
     "text": [
      "Model: \"sequential_3\"\n",
      "_________________________________________________________________\n",
      " Layer (type)                Output Shape              Param #   \n",
      "=================================================================\n",
      " module_wrapper_3 (ModuleWra  (None, 40, 128)          3866240   \n",
      " pper)                                                           \n",
      "                                                                 \n",
      " bidirectional_6 (Bidirectio  (None, 40, 256)          198144    \n",
      " nal)                                                            \n",
      "                                                                 \n",
      " bidirectional_7 (Bidirectio  (None, 64)               55680     \n",
      " nal)                                                            \n",
      "                                                                 \n",
      " dense_6 (Dense)             (None, 64)                4160      \n",
      "                                                                 \n",
      " dropout_3 (Dropout)         (None, 64)                0         \n",
      "                                                                 \n",
      " dense_7 (Dense)             (None, 1)                 65        \n",
      "                                                                 \n",
      "=================================================================\n",
      "Total params: 4,124,289\n",
      "Trainable params: 4,124,289\n",
      "Non-trainable params: 0\n",
      "_________________________________________________________________\n"
     ]
    }
   ],
   "source": [
    "model = tf.keras.Sequential([\n",
    "    Input(name='inputs',shape=[MAX_LEN]),\n",
    "    Embedding(len(tok.word_index)+1, 128),\n",
    "    Bidirectional(tf.keras.layers.GRU(128,  return_sequences=True)),\n",
    "    Bidirectional(tf.keras.layers.GRU(32)),\n",
    "    Dense(64, activation='relu'),\n",
    "    Dropout(0.5),\n",
    "    Dense(1, activation='sigmoid')\n",
    "])\n",
    "\n",
    "#model.compile(optimizer=keras.optimizers.Adam(0.001),\n",
    "#             loss='sparse_categorical_crossentropy',\n",
    "#             metrics=['accuracy'])\n",
    "#model.summary()\n",
    "\n",
    "\n",
    "#compile model\n",
    "model.compile(loss=tf.keras.losses.BinaryCrossentropy(),\n",
    "              optimizer=tf.keras.optimizers.Adam(0.001),\n",
    "              metrics=['accuracy'])\n",
    "\n",
    "#model summary\n",
    "model.summary()"
   ]
  },
  {
   "cell_type": "code",
   "execution_count": 32,
   "metadata": {},
   "outputs": [
    {
     "name": "stdout",
     "output_type": "stream",
     "text": [
      "Epoch 1/5\n",
      "796/796 [==============================] - 90s 105ms/step - loss: 0.3835 - accuracy: 0.8078 - val_loss: 0.2554 - val_accuracy: 0.8847\n",
      "Epoch 2/5\n",
      "796/796 [==============================] - 82s 103ms/step - loss: 0.0970 - accuracy: 0.9644 - val_loss: 0.2922 - val_accuracy: 0.9010\n",
      "Epoch 3/5\n",
      "796/796 [==============================] - 81s 102ms/step - loss: 0.0222 - accuracy: 0.9927 - val_loss: 0.3593 - val_accuracy: 0.8903\n",
      "Epoch 4/5\n",
      "796/796 [==============================] - 80s 100ms/step - loss: 0.0117 - accuracy: 0.9967 - val_loss: 0.4553 - val_accuracy: 0.8894\n",
      "Epoch 5/5\n",
      "796/796 [==============================] - 80s 101ms/step - loss: 0.0045 - accuracy: 0.9978 - val_loss: 0.4758 - val_accuracy: 0.8683\n"
     ]
    }
   ],
   "source": [
    "history = model.fit(X_train_seq, y_train, epochs=5,validation_split = 0.2, batch_size = 16, callbacks=[EarlyStopping(monitor='val_accuracy',mode='max', patience=3, verbose=False,restore_best_weights=True)])"
   ]
  },
  {
   "cell_type": "code",
   "execution_count": 33,
   "metadata": {},
   "outputs": [
    {
     "name": "stdout",
     "output_type": "stream",
     "text": [
      "125/125 [==============================] - 4s 31ms/step - loss: 0.3161 - accuracy: 0.8951\n",
      "125/125 [==============================] - 4s 28ms/step\n",
      "Test Loss: 0.3161143660545349\n",
      "Test Accuracy: 0.8951470851898193\n"
     ]
    }
   ],
   "source": [
    "test_loss, test_acc = model.evaluate(X_test_seq, y_test)\n",
    "y_hat = model.predict(X_test_seq)\n",
    "\n",
    "print('Test Loss:', test_loss)\n",
    "print('Test Accuracy:', test_acc)"
   ]
  },
  {
   "cell_type": "code",
   "execution_count": 34,
   "metadata": {},
   "outputs": [
    {
     "name": "stdout",
     "output_type": "stream",
     "text": [
      "              precision    recall  f1-score   support\n",
      "\n",
      "           0       0.90      0.89      0.90      2024\n",
      "           1       0.89      0.90      0.89      1953\n",
      "\n",
      "    accuracy                           0.90      3977\n",
      "   macro avg       0.90      0.90      0.90      3977\n",
      "weighted avg       0.90      0.90      0.90      3977\n",
      "\n"
     ]
    }
   ],
   "source": [
    "print(classification_report(y_test, np.where(y_hat >= 0.5, 1, 0)))"
   ]
  },
  {
   "cell_type": "code",
   "execution_count": 35,
   "metadata": {},
   "outputs": [
    {
     "data": {
      "text/plain": [
       "Text(51.0, 0.5, 'Real Labels')"
      ]
     },
     "execution_count": 35,
     "metadata": {},
     "output_type": "execute_result"
    },
    {
     "data": {
      "image/png": "[encoded data removed]",
      "text/plain": [
       "<Figure size 576x432 with 2 Axes>"
      ]
     },
     "metadata": {
      "needs_background": "light"
     },
     "output_type": "display_data"
    }
   ],
   "source": [
    "plt.figure(figsize = (8,6))\n",
    "\n",
    "sns.heatmap(confusion_matrix(y_test, np.where(y_hat >= 0.5, 1, 0)), annot=True, \n",
    "            fmt='', cmap='Blues')\n",
    "\n",
    "plt.xlabel('Predicted Labels')\n",
    "plt.ylabel('Real Labels')"
   ]
  },
  {
   "cell_type": "code",
   "execution_count": null,
   "metadata": {},
   "outputs": [],
   "source": []
  },
  {
   "cell_type": "code",
   "execution_count": null,
   "metadata": {},
   "outputs": [],
   "source": []
  }
 ],
 "metadata": {
  "kernelspec": {
   "display_name": "Python 3",
   "language": "python",
   "name": "python3"
  },
  "language_info": {
   "codemirror_mode": {
    "name": "ipython",
    "version": 3
   },
   "file_extension": ".py",
   "mimetype": "text/x-python",
   "name": "python",
   "nbconvert_exporter": "python",
   "pygments_lexer": "ipython3",
   "version": "3.8.3"
  }
 },
 "nbformat": 4,
 "nbformat_minor": 5
}
